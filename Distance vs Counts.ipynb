{
 "cells": [
  {
   "cell_type": "code",
   "execution_count": 99,
   "id": "6541ab19",
   "metadata": {},
   "outputs": [],
   "source": [
    "import pandas as pd\n",
    "import matplotlib.pyplot as plt\n",
    "import numpy as np\n",
    "import seaborn as sns\n"
   ]
  },
  {
   "cell_type": "code",
   "execution_count": 100,
   "id": "95980e39",
   "metadata": {},
   "outputs": [
    {
     "name": "stdout",
     "output_type": "stream",
     "text": [
      "(272, 2)\n"
     ]
    },
    {
     "data": {
      "text/html": [
       "<div>\n",
       "<style scoped>\n",
       "    .dataframe tbody tr th:only-of-type {\n",
       "        vertical-align: middle;\n",
       "    }\n",
       "\n",
       "    .dataframe tbody tr th {\n",
       "        vertical-align: top;\n",
       "    }\n",
       "\n",
       "    .dataframe thead th {\n",
       "        text-align: right;\n",
       "    }\n",
       "</style>\n",
       "<table border=\"1\" class=\"dataframe\">\n",
       "  <thead>\n",
       "    <tr style=\"text-align: right;\">\n",
       "      <th></th>\n",
       "      <th>distance</th>\n",
       "      <th>counts</th>\n",
       "    </tr>\n",
       "  </thead>\n",
       "  <tbody>\n",
       "    <tr>\n",
       "      <th>0</th>\n",
       "      <td>bg</td>\n",
       "      <td>438</td>\n",
       "    </tr>\n",
       "    <tr>\n",
       "      <th>1</th>\n",
       "      <td>bg</td>\n",
       "      <td>445</td>\n",
       "    </tr>\n",
       "    <tr>\n",
       "      <th>2</th>\n",
       "      <td>bg</td>\n",
       "      <td>460</td>\n",
       "    </tr>\n",
       "    <tr>\n",
       "      <th>3</th>\n",
       "      <td>bg</td>\n",
       "      <td>469</td>\n",
       "    </tr>\n",
       "    <tr>\n",
       "      <th>4</th>\n",
       "      <td>bg</td>\n",
       "      <td>457</td>\n",
       "    </tr>\n",
       "  </tbody>\n",
       "</table>\n",
       "</div>"
      ],
      "text/plain": [
       "  distance  counts\n",
       "0       bg     438\n",
       "1       bg     445\n",
       "2       bg     460\n",
       "3       bg     469\n",
       "4       bg     457"
      ]
     },
     "execution_count": 100,
     "metadata": {},
     "output_type": "execute_result"
    }
   ],
   "source": [
    "df = pd.read_csv('data/counts_vs_distance_proc.csv')\n",
    "print(df.shape)\n",
    "df.head()\n",
    "\n"
   ]
  },
  {
   "cell_type": "markdown",
   "id": "33b1499c",
   "metadata": {},
   "source": [
    "Dwell time was set to 10 seconds, so will divide this activity by 10."
   ]
  },
  {
   "cell_type": "code",
   "execution_count": 101,
   "id": "1710642b",
   "metadata": {},
   "outputs": [],
   "source": [
    "df.loc[:,'counts'] = df['counts'] / 10"
   ]
  },
  {
   "cell_type": "code",
   "execution_count": 102,
   "id": "06a343aa",
   "metadata": {},
   "outputs": [
    {
     "data": {
      "text/html": [
       "<div>\n",
       "<style scoped>\n",
       "    .dataframe tbody tr th:only-of-type {\n",
       "        vertical-align: middle;\n",
       "    }\n",
       "\n",
       "    .dataframe tbody tr th {\n",
       "        vertical-align: top;\n",
       "    }\n",
       "\n",
       "    .dataframe thead th {\n",
       "        text-align: right;\n",
       "    }\n",
       "</style>\n",
       "<table border=\"1\" class=\"dataframe\">\n",
       "  <thead>\n",
       "    <tr style=\"text-align: right;\">\n",
       "      <th></th>\n",
       "      <th>distance</th>\n",
       "      <th>counts</th>\n",
       "      <th>unc_counts</th>\n",
       "    </tr>\n",
       "  </thead>\n",
       "  <tbody>\n",
       "    <tr>\n",
       "      <th>0</th>\n",
       "      <td>4.3</td>\n",
       "      <td>409.4</td>\n",
       "      <td>20.233635</td>\n",
       "    </tr>\n",
       "    <tr>\n",
       "      <th>1</th>\n",
       "      <td>4.3</td>\n",
       "      <td>420.0</td>\n",
       "      <td>20.493902</td>\n",
       "    </tr>\n",
       "    <tr>\n",
       "      <th>2</th>\n",
       "      <td>4.3</td>\n",
       "      <td>403.0</td>\n",
       "      <td>20.074860</td>\n",
       "    </tr>\n",
       "    <tr>\n",
       "      <th>3</th>\n",
       "      <td>4.3</td>\n",
       "      <td>421.1</td>\n",
       "      <td>20.520721</td>\n",
       "    </tr>\n",
       "    <tr>\n",
       "      <th>4</th>\n",
       "      <td>4.3</td>\n",
       "      <td>431.6</td>\n",
       "      <td>20.774985</td>\n",
       "    </tr>\n",
       "  </tbody>\n",
       "</table>\n",
       "</div>"
      ],
      "text/plain": [
       "  distance  counts  unc_counts\n",
       "0      4.3   409.4   20.233635\n",
       "1      4.3   420.0   20.493902\n",
       "2      4.3   403.0   20.074860\n",
       "3      4.3   421.1   20.520721\n",
       "4      4.3   431.6   20.774985"
      ]
     },
     "execution_count": 102,
     "metadata": {},
     "output_type": "execute_result"
    }
   ],
   "source": [
    "df.loc[:,'unc_counts'] = np.sqrt(df['counts'])\n",
    "\n",
    "\n",
    "data = df.loc[df['distance'] != 'bg', :].reset_index(drop=True)\n",
    "data.head()"
   ]
  },
  {
   "cell_type": "code",
   "execution_count": 103,
   "id": "f920b239",
   "metadata": {},
   "outputs": [
    {
     "name": "stdout",
     "output_type": "stream",
     "text": [
      "Background Intensity: 46.6 +/- 0.3 counts/sec\n"
     ]
    }
   ],
   "source": [
    "background = df.loc[df['distance'] == 'bg', :]\n",
    "background.shape\n",
    "bg_mean = background['counts'].mean()\n",
    "\n",
    "bg_std = background['counts'].std()\n",
    "bg_err = bg_std / np.sqrt(background.shape[0])\n",
    "print(f'Background Intensity: {bg_mean:.1f} +/- {bg_err:.1f} counts/sec')"
   ]
  },
  {
   "cell_type": "code",
   "execution_count": 104,
   "id": "3ad31561",
   "metadata": {},
   "outputs": [
    {
     "data": {
      "text/plain": [
       "[<matplotlib.lines.Line2D at 0x2190df3dab0>]"
      ]
     },
     "execution_count": 104,
     "metadata": {},
     "output_type": "execute_result"
    },
    {
     "data": {
      "image/png": "[encoded data removed]",
      "text/plain": [
       "<Figure size 432x288 with 1 Axes>"
      ]
     },
     "metadata": {
      "needs_background": "light"
     },
     "output_type": "display_data"
    }
   ],
   "source": [
    "plt.plot(data.index, data['counts'])"
   ]
  },
  {
   "cell_type": "code",
   "execution_count": 105,
   "id": "f7f2c762",
   "metadata": {},
   "outputs": [
    {
     "data": {
      "text/plain": [
       "<AxesSubplot:xlabel='distance', ylabel='counts'>"
      ]
     },
     "execution_count": 105,
     "metadata": {},
     "output_type": "execute_result"
    },
    {
     "data": {
      "image/png": "[encoded data removed]",
      "text/plain": [
       "<Figure size 432x288 with 1 Axes>"
      ]
     },
     "metadata": {
      "needs_background": "light"
     },
     "output_type": "display_data"
    }
   ],
   "source": [
    "sns.boxplot(data=data, x='distance', y='counts')"
   ]
  },
  {
   "cell_type": "code",
   "execution_count": 106,
   "id": "cc82140d",
   "metadata": {},
   "outputs": [
    {
     "data": {
      "text/html": [
       "<div>\n",
       "<style scoped>\n",
       "    .dataframe tbody tr th:only-of-type {\n",
       "        vertical-align: middle;\n",
       "    }\n",
       "\n",
       "    .dataframe tbody tr th {\n",
       "        vertical-align: top;\n",
       "    }\n",
       "\n",
       "    .dataframe thead th {\n",
       "        text-align: right;\n",
       "    }\n",
       "</style>\n",
       "<table border=\"1\" class=\"dataframe\">\n",
       "  <thead>\n",
       "    <tr style=\"text-align: right;\">\n",
       "      <th></th>\n",
       "      <th>distance</th>\n",
       "      <th>mean</th>\n",
       "      <th>std</th>\n",
       "      <th>count</th>\n",
       "    </tr>\n",
       "  </thead>\n",
       "  <tbody>\n",
       "    <tr>\n",
       "      <th>0</th>\n",
       "      <td>10.9</td>\n",
       "      <td>149.158537</td>\n",
       "      <td>4.085950</td>\n",
       "      <td>41</td>\n",
       "    </tr>\n",
       "    <tr>\n",
       "      <th>1</th>\n",
       "      <td>18.7</td>\n",
       "      <td>89.148438</td>\n",
       "      <td>2.964659</td>\n",
       "      <td>64</td>\n",
       "    </tr>\n",
       "    <tr>\n",
       "      <th>2</th>\n",
       "      <td>29.8</td>\n",
       "      <td>65.155102</td>\n",
       "      <td>2.306608</td>\n",
       "      <td>49</td>\n",
       "    </tr>\n",
       "    <tr>\n",
       "      <th>3</th>\n",
       "      <td>4.3</td>\n",
       "      <td>411.582540</td>\n",
       "      <td>7.108776</td>\n",
       "      <td>63</td>\n",
       "    </tr>\n",
       "  </tbody>\n",
       "</table>\n",
       "</div>"
      ],
      "text/plain": [
       "   distance        mean       std  count\n",
       "0      10.9  149.158537  4.085950     41\n",
       "1      18.7   89.148438  2.964659     64\n",
       "2      29.8   65.155102  2.306608     49\n",
       "3       4.3  411.582540  7.108776     63"
      ]
     },
     "execution_count": 106,
     "metadata": {},
     "output_type": "execute_result"
    }
   ],
   "source": [
    "count_df = data.drop('unc_counts', axis=1).groupby(['distance'], as_index=False).agg(['mean', 'std', 'count'])\n",
    "count_df.columns = count_df.columns.get_level_values(1).astype(str)\n",
    "count_df = count_df.reset_index()\n",
    "count_df['distance'] = count_df['distance'].astype(float)\n",
    "count_df"
   ]
  },
  {
   "cell_type": "code",
   "execution_count": null,
   "id": "cd7634e3",
   "metadata": {},
   "outputs": [],
   "source": []
  },
  {
   "cell_type": "code",
   "execution_count": 107,
   "id": "35cd0971",
   "metadata": {},
   "outputs": [
    {
     "data": {
      "text/html": [
       "<div>\n",
       "<style scoped>\n",
       "    .dataframe tbody tr th:only-of-type {\n",
       "        vertical-align: middle;\n",
       "    }\n",
       "\n",
       "    .dataframe tbody tr th {\n",
       "        vertical-align: top;\n",
       "    }\n",
       "\n",
       "    .dataframe thead th {\n",
       "        text-align: right;\n",
       "    }\n",
       "</style>\n",
       "<table border=\"1\" class=\"dataframe\">\n",
       "  <thead>\n",
       "    <tr style=\"text-align: right;\">\n",
       "      <th></th>\n",
       "      <th>distance</th>\n",
       "      <th>mean</th>\n",
       "      <th>std</th>\n",
       "      <th>count</th>\n",
       "    </tr>\n",
       "  </thead>\n",
       "  <tbody>\n",
       "    <tr>\n",
       "      <th>0</th>\n",
       "      <td>10.9</td>\n",
       "      <td>149.158537</td>\n",
       "      <td>4.085950</td>\n",
       "      <td>41</td>\n",
       "    </tr>\n",
       "    <tr>\n",
       "      <th>1</th>\n",
       "      <td>18.7</td>\n",
       "      <td>89.148438</td>\n",
       "      <td>2.964659</td>\n",
       "      <td>64</td>\n",
       "    </tr>\n",
       "    <tr>\n",
       "      <th>2</th>\n",
       "      <td>29.8</td>\n",
       "      <td>65.155102</td>\n",
       "      <td>2.306608</td>\n",
       "      <td>49</td>\n",
       "    </tr>\n",
       "    <tr>\n",
       "      <th>3</th>\n",
       "      <td>4.3</td>\n",
       "      <td>411.582540</td>\n",
       "      <td>7.108776</td>\n",
       "      <td>63</td>\n",
       "    </tr>\n",
       "  </tbody>\n",
       "</table>\n",
       "</div>"
      ],
      "text/plain": [
       "   distance        mean       std  count\n",
       "0      10.9  149.158537  4.085950     41\n",
       "1      18.7   89.148438  2.964659     64\n",
       "2      29.8   65.155102  2.306608     49\n",
       "3       4.3  411.582540  7.108776     63"
      ]
     },
     "execution_count": 107,
     "metadata": {},
     "output_type": "execute_result"
    }
   ],
   "source": [
    "count_df"
   ]
  },
  {
   "cell_type": "code",
   "execution_count": 108,
   "id": "f90a4dca",
   "metadata": {},
   "outputs": [],
   "source": [
    "count_df['mean'] = count_df['mean'] - bg_mean\n",
    "count_df = count_df.sort_values('distance')"
   ]
  },
  {
   "cell_type": "code",
   "execution_count": 109,
   "id": "1e224266",
   "metadata": {},
   "outputs": [
    {
     "data": {
      "text/plain": [
       "<matplotlib.collections.PathCollection at 0x2190e048760>"
      ]
     },
     "execution_count": 109,
     "metadata": {},
     "output_type": "execute_result"
    },
    {
     "data": {
      "image/png": "[encoded data removed]",
      "text/plain": [
       "<Figure size 432x288 with 1 Axes>"
      ]
     },
     "metadata": {
      "needs_background": "light"
     },
     "output_type": "display_data"
    }
   ],
   "source": [
    "plt.scatter(x=count_df['distance'], y=count_df['mean'])"
   ]
  },
  {
   "cell_type": "markdown",
   "id": "643a01e8",
   "metadata": {},
   "source": [
    "### Computing $r$\n",
    "\n",
    "Assuming intensity is a function of distance, $y$:\n",
    "\n",
    "$$I(y) = \\frac{I_0}{(y + r)^2}$$\n",
    "\n",
    "We don't have $I_0$ but do have $y$, and $I(y)$ and can take the ratio of two measurements:\n",
    "\n",
    "$$\\frac{I(y_1)}{I(y_2)} = \\frac{(y_2 + r)^2}{(y_1 + r)^2}$$\n",
    "\n",
    "And solve for a function of $r$:\n",
    "\n",
    "Let $\\alpha = \\frac{I(y_1)}{I(y_2)}$\n",
    "\n",
    "$$(\\alpha - 1)r^2 + 2(\\alpha y_1 - y_2)r + \\alpha(y_1^2 - y_2^2) = 0$$\n",
    "\n",
    "Which is just a quadratic function of $r$:\n",
    "$$Ar^2 + Br + C = 0$$"
   ]
  },
  {
   "cell_type": "code",
   "execution_count": 110,
   "id": "e6529f60",
   "metadata": {},
   "outputs": [
    {
     "data": {
      "text/html": [
       "<div>\n",
       "<style scoped>\n",
       "    .dataframe tbody tr th:only-of-type {\n",
       "        vertical-align: middle;\n",
       "    }\n",
       "\n",
       "    .dataframe tbody tr th {\n",
       "        vertical-align: top;\n",
       "    }\n",
       "\n",
       "    .dataframe thead th {\n",
       "        text-align: right;\n",
       "    }\n",
       "</style>\n",
       "<table border=\"1\" class=\"dataframe\">\n",
       "  <thead>\n",
       "    <tr style=\"text-align: right;\">\n",
       "      <th></th>\n",
       "      <th>distance</th>\n",
       "      <th>mean</th>\n",
       "      <th>std</th>\n",
       "      <th>count</th>\n",
       "    </tr>\n",
       "  </thead>\n",
       "  <tbody>\n",
       "    <tr>\n",
       "      <th>3</th>\n",
       "      <td>4.3</td>\n",
       "      <td>364.987994</td>\n",
       "      <td>7.108776</td>\n",
       "      <td>63</td>\n",
       "    </tr>\n",
       "    <tr>\n",
       "      <th>0</th>\n",
       "      <td>10.9</td>\n",
       "      <td>102.563991</td>\n",
       "      <td>4.085950</td>\n",
       "      <td>41</td>\n",
       "    </tr>\n",
       "    <tr>\n",
       "      <th>1</th>\n",
       "      <td>18.7</td>\n",
       "      <td>42.553892</td>\n",
       "      <td>2.964659</td>\n",
       "      <td>64</td>\n",
       "    </tr>\n",
       "    <tr>\n",
       "      <th>2</th>\n",
       "      <td>29.8</td>\n",
       "      <td>18.560557</td>\n",
       "      <td>2.306608</td>\n",
       "      <td>49</td>\n",
       "    </tr>\n",
       "  </tbody>\n",
       "</table>\n",
       "</div>"
      ],
      "text/plain": [
       "   distance        mean       std  count\n",
       "3       4.3  364.987994  7.108776     63\n",
       "0      10.9  102.563991  4.085950     41\n",
       "1      18.7   42.553892  2.964659     64\n",
       "2      29.8   18.560557  2.306608     49"
      ]
     },
     "execution_count": 110,
     "metadata": {},
     "output_type": "execute_result"
    }
   ],
   "source": [
    "count_df"
   ]
  },
  {
   "cell_type": "code",
   "execution_count": 114,
   "id": "5af5cdbd",
   "metadata": {},
   "outputs": [
    {
     "name": "stdout",
     "output_type": "stream",
     "text": [
      "r = (-248.56797297540126, -686.535997742228)\n",
      "r = (-66.5346105634085, -223.70115578914144)\n",
      "r = (-27.434808163515495, -94.7940890999354)\n"
     ]
    }
   ],
   "source": [
    "def quad(A, B, C):\n",
    "    beta = np.sqrt(B**2 - 4*A*C)\n",
    "    \n",
    "    return ((-B + beta)/2/A, (-B - beta)/2/A )\n",
    "\n",
    "for i in range(count_df.shape[0] - 1):\n",
    "    alpha = count_df.iloc[i, 1] / count_df.iloc[i+1, 1]\n",
    "    #print(alpha)\n",
    "    A = (alpha - 1)\n",
    "    B = 2 * (alpha * count_df.iloc[i, 1] - count_df.iloc[i+1, 1])\n",
    "    C = alpha * (count_df.iloc[i, 1]**2 - count_df.iloc[i+1, 1]**2)\n",
    "    #print(f'{A}r^2 + {B}r + {C}')\n",
    "    print(f'r = {quad(A,B,C)}')"
   ]
  },
  {
   "cell_type": "code",
   "execution_count": 118,
   "id": "41cdf60d",
   "metadata": {},
   "outputs": [
    {
     "data": {
      "text/plain": [
       "array([ 4.3, 10.9, 18.7, 29.8])"
      ]
     },
     "execution_count": 118,
     "metadata": {},
     "output_type": "execute_result"
    }
   ],
   "source": [
    "count_df['distance'].to_numpy()"
   ]
  },
  {
   "cell_type": "code",
   "execution_count": 127,
   "id": "2d44ce72",
   "metadata": {},
   "outputs": [],
   "source": [
    "import numpy as np\n",
    "from sklearn.linear_model import LinearRegression\n",
    "\n",
    "# initial guess\n",
    "r = 1\n",
    "# Define the measured distances and intensities\n",
    "y = count_df['distance'].to_numpy()\n",
    "I = count_df['mean'].to_numpy()\n",
    "\n",
    "# Define the model with an additional column for I0\n",
    "X = np.column_stack((1 / (y + r)**2, np.ones_like(y)))\n",
    "\n",
    "# Create a linear regression model\n",
    "model = LinearRegression()\n",
    "\n",
    "# Fit the model to the data\n",
    "model.fit(X, I)\n",
    "\n",
    "# Extract the estimated values of r and I0 from the model coefficients\n",
    "r_estimated = - model.coef_[0]**(-0.5) + y.mean()\n",
    "I0_estimated = model.intercept_"
   ]
  },
  {
   "cell_type": "code",
   "execution_count": 128,
   "id": "e96aec46",
   "metadata": {},
   "outputs": [
    {
     "name": "stdout",
     "output_type": "stream",
     "text": [
      "r_estimate: 15.914894769451738\n",
      "I0 estimate: 18.8334594202084\n"
     ]
    }
   ],
   "source": [
    "print(f'r_estimate: {r_estimated}')\n",
    "print(f'I0 estimate: {I0_estimated}')"
   ]
  },
  {
   "cell_type": "code",
   "execution_count": 129,
   "id": "f93d1e44",
   "metadata": {},
   "outputs": [
    {
     "data": {
      "text/plain": [
       "array([[0.03559986, 1.        ],\n",
       "       [0.00706165, 1.        ],\n",
       "       [0.00257672, 1.        ],\n",
       "       [0.00105414, 1.        ]])"
      ]
     },
     "execution_count": 129,
     "metadata": {},
     "output_type": "execute_result"
    }
   ],
   "source": [
    "X"
   ]
  }
 ],
 "metadata": {
  "kernelspec": {
   "display_name": "Python 3 (ipykernel)",
   "language": "python",
   "name": "python3"
  },
  "language_info": {
   "codemirror_mode": {
    "name": "ipython",
    "version": 3
   },
   "file_extension": ".py",
   "mimetype": "text/x-python",
   "name": "python",
   "nbconvert_exporter": "python",
   "pygments_lexer": "ipython3",
   "version": "3.10.4"
  }
 },
 "nbformat": 4,
 "nbformat_minor": 5
}
