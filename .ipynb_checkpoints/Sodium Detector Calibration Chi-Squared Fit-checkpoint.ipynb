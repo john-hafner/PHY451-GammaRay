{
 "cells": [
  {
   "cell_type": "markdown",
   "metadata": {},
   "source": [
    "# $X^2$ for the Sodium Data\n",
    "I read through chapter 12 in An Introduction to Error Analysis (Taylor, 2nd ed) that covers $X^2$.  He calls dividing it by the degrees of freedom the reduced $X^2$, or $\\tilde{X^2}$.  I used four points, the two from the Cs-137, and two from Co-60 and did a linear regression on that to get a line.  Then "
   ]
  },
  {
   "cell_type": "code",
   "execution_count": 9,
   "metadata": {},
   "outputs": [],
   "source": [
    "import pandas as pd\n",
    "import numpy as np\n",
    "import matplotlib.pyplot as plt\n",
    "import seaborn as sns\n",
    "\n",
    "from sklearn.linear_model import LinearRegression\n",
    "from sklearn.metrics import r2_score"
   ]
  },
  {
   "cell_type": "code",
   "execution_count": 10,
   "metadata": {},
   "outputs": [
    {
     "data": {
      "text/html": [
       "<div>\n",
       "<style scoped>\n",
       "    .dataframe tbody tr th:only-of-type {\n",
       "        vertical-align: middle;\n",
       "    }\n",
       "\n",
       "    .dataframe tbody tr th {\n",
       "        vertical-align: top;\n",
       "    }\n",
       "\n",
       "    .dataframe thead th {\n",
       "        text-align: right;\n",
       "    }\n",
       "</style>\n",
       "<table border=\"1\" class=\"dataframe\">\n",
       "  <thead>\n",
       "    <tr style=\"text-align: right;\">\n",
       "      <th></th>\n",
       "      <th>detector</th>\n",
       "      <th>element</th>\n",
       "      <th>ROI_Start</th>\n",
       "      <th>ROI_End</th>\n",
       "      <th>Gross</th>\n",
       "      <th>Net</th>\n",
       "      <th>Centroid</th>\n",
       "      <th>FWHM</th>\n",
       "      <th>Known_keV</th>\n",
       "    </tr>\n",
       "  </thead>\n",
       "  <tbody>\n",
       "    <tr>\n",
       "      <th>0</th>\n",
       "      <td>ge</td>\n",
       "      <td>bg</td>\n",
       "      <td>32</td>\n",
       "      <td>35</td>\n",
       "      <td>4093</td>\n",
       "      <td>104</td>\n",
       "      <td>33</td>\n",
       "      <td>--</td>\n",
       "      <td>NaN</td>\n",
       "    </tr>\n",
       "    <tr>\n",
       "      <th>1</th>\n",
       "      <td>ge</td>\n",
       "      <td>bg</td>\n",
       "      <td>39</td>\n",
       "      <td>43</td>\n",
       "      <td>21079</td>\n",
       "      <td>12163</td>\n",
       "      <td>40</td>\n",
       "      <td>--</td>\n",
       "      <td>NaN</td>\n",
       "    </tr>\n",
       "    <tr>\n",
       "      <th>2</th>\n",
       "      <td>ge</td>\n",
       "      <td>bg</td>\n",
       "      <td>151</td>\n",
       "      <td>154</td>\n",
       "      <td>4259</td>\n",
       "      <td>1189</td>\n",
       "      <td>152</td>\n",
       "      <td>--</td>\n",
       "      <td>NaN</td>\n",
       "    </tr>\n",
       "    <tr>\n",
       "      <th>3</th>\n",
       "      <td>ge</td>\n",
       "      <td>bg</td>\n",
       "      <td>165</td>\n",
       "      <td>170</td>\n",
       "      <td>9392</td>\n",
       "      <td>6865</td>\n",
       "      <td>167</td>\n",
       "      <td>2</td>\n",
       "      <td>NaN</td>\n",
       "    </tr>\n",
       "    <tr>\n",
       "      <th>4</th>\n",
       "      <td>ge</td>\n",
       "      <td>bg</td>\n",
       "      <td>193</td>\n",
       "      <td>199</td>\n",
       "      <td>23971</td>\n",
       "      <td>-3679</td>\n",
       "      <td>198</td>\n",
       "      <td>--</td>\n",
       "      <td>NaN</td>\n",
       "    </tr>\n",
       "  </tbody>\n",
       "</table>\n",
       "</div>"
      ],
      "text/plain": [
       "  detector element  ROI_Start  ROI_End  Gross    Net  Centroid FWHM  Known_keV\n",
       "0       ge      bg         32       35   4093    104        33   --        NaN\n",
       "1       ge      bg         39       43  21079  12163        40   --        NaN\n",
       "2       ge      bg        151      154   4259   1189       152   --        NaN\n",
       "3       ge      bg        165      170   9392   6865       167    2        NaN\n",
       "4       ge      bg        193      199  23971  -3679       198   --        NaN"
      ]
     },
     "execution_count": 10,
     "metadata": {},
     "output_type": "execute_result"
    }
   ],
   "source": [
    "df = pd.read_csv('data/peaks/uncalibrated_peaks.csv')\n",
    "df.head()"
   ]
  },
  {
   "cell_type": "code",
   "execution_count": 11,
   "metadata": {
    "scrolled": true
   },
   "outputs": [
    {
     "data": {
      "text/html": [
       "<div>\n",
       "<style scoped>\n",
       "    .dataframe tbody tr th:only-of-type {\n",
       "        vertical-align: middle;\n",
       "    }\n",
       "\n",
       "    .dataframe tbody tr th {\n",
       "        vertical-align: top;\n",
       "    }\n",
       "\n",
       "    .dataframe thead th {\n",
       "        text-align: right;\n",
       "    }\n",
       "</style>\n",
       "<table border=\"1\" class=\"dataframe\">\n",
       "  <thead>\n",
       "    <tr style=\"text-align: right;\">\n",
       "      <th></th>\n",
       "      <th>detector</th>\n",
       "      <th>element</th>\n",
       "      <th>ROI_Start</th>\n",
       "      <th>ROI_End</th>\n",
       "      <th>Gross</th>\n",
       "      <th>Net</th>\n",
       "      <th>Centroid</th>\n",
       "      <th>FWHM</th>\n",
       "      <th>Known_keV</th>\n",
       "    </tr>\n",
       "  </thead>\n",
       "  <tbody>\n",
       "    <tr>\n",
       "      <th>39</th>\n",
       "      <td>na</td>\n",
       "      <td>cs137</td>\n",
       "      <td>18</td>\n",
       "      <td>30</td>\n",
       "      <td>10062</td>\n",
       "      <td>7447</td>\n",
       "      <td>22</td>\n",
       "      <td>4</td>\n",
       "      <td>32.0</td>\n",
       "    </tr>\n",
       "    <tr>\n",
       "      <th>41</th>\n",
       "      <td>na</td>\n",
       "      <td>cs137</td>\n",
       "      <td>375</td>\n",
       "      <td>454</td>\n",
       "      <td>34939</td>\n",
       "      <td>33578</td>\n",
       "      <td>410</td>\n",
       "      <td>30</td>\n",
       "      <td>661.7</td>\n",
       "    </tr>\n",
       "    <tr>\n",
       "      <th>37</th>\n",
       "      <td>na</td>\n",
       "      <td>co60</td>\n",
       "      <td>678</td>\n",
       "      <td>759</td>\n",
       "      <td>8574</td>\n",
       "      <td>6154</td>\n",
       "      <td>713</td>\n",
       "      <td>35</td>\n",
       "      <td>1173.2</td>\n",
       "    </tr>\n",
       "    <tr>\n",
       "      <th>38</th>\n",
       "      <td>na</td>\n",
       "      <td>co60</td>\n",
       "      <td>762</td>\n",
       "      <td>859</td>\n",
       "      <td>6822</td>\n",
       "      <td>6282</td>\n",
       "      <td>808</td>\n",
       "      <td>40</td>\n",
       "      <td>1332.5</td>\n",
       "    </tr>\n",
       "  </tbody>\n",
       "</table>\n",
       "</div>"
      ],
      "text/plain": [
       "   detector element  ROI_Start  ROI_End  Gross    Net  Centroid FWHM  \\\n",
       "39       na   cs137         18       30  10062   7447        22    4   \n",
       "41       na   cs137        375      454  34939  33578       410   30   \n",
       "37       na    co60        678      759   8574   6154       713   35   \n",
       "38       na    co60        762      859   6822   6282       808   40   \n",
       "\n",
       "    Known_keV  \n",
       "39       32.0  \n",
       "41      661.7  \n",
       "37     1173.2  \n",
       "38     1332.5  "
      ]
     },
     "execution_count": 11,
     "metadata": {},
     "output_type": "execute_result"
    }
   ],
   "source": [
    "# Getting the non-null values for cs137 and co60\n",
    "na_cal = df[(df['detector']=='na') & (df['Known_keV'].isna() == False)].sort_values(['detector', 'ROI_Start']).copy()\n",
    "na_cal"
   ]
  },
  {
   "cell_type": "code",
   "execution_count": 12,
   "metadata": {},
   "outputs": [
    {
     "data": {
      "text/plain": [
       "detector      object\n",
       "element       object\n",
       "ROI_Start      int64\n",
       "ROI_End        int64\n",
       "Gross          int64\n",
       "Net            int64\n",
       "Centroid       int64\n",
       "FWHM         float64\n",
       "Known_keV    float64\n",
       "dtype: object"
      ]
     },
     "execution_count": 12,
     "metadata": {},
     "output_type": "execute_result"
    }
   ],
   "source": [
    "# Converting FWHM to a number\n",
    "na_cal['FWHM'] = na_cal['FWHM'].astype(np.float64)\n",
    "na_cal.dtypes"
   ]
  },
  {
   "cell_type": "code",
   "execution_count": 13,
   "metadata": {},
   "outputs": [],
   "source": [
    "# Getting the values to fit into a linear model\n",
    "x = na_cal[['Centroid']]\n",
    "y = na_cal[['Known_keV']]"
   ]
  },
  {
   "cell_type": "code",
   "execution_count": 14,
   "metadata": {},
   "outputs": [],
   "source": [
    "# Using scikit-learn to fit a linear regression\n",
    "model = LinearRegression()\n",
    "model.fit(x, y)\n",
    "\n",
    "# Now getting the prediction of the model, using the x as input again\n",
    "y_hat = model.predict(x)"
   ]
  },
  {
   "cell_type": "code",
   "execution_count": 26,
   "metadata": {},
   "outputs": [
    {
     "data": {
      "text/plain": [
       "array([[ 22],\n",
       "       [410],\n",
       "       [713],\n",
       "       [808]], dtype=int64)"
      ]
     },
     "execution_count": 26,
     "metadata": {},
     "output_type": "execute_result"
    }
   ],
   "source": [
    "x.to_numpy()"
   ]
  },
  {
   "cell_type": "code",
   "execution_count": 18,
   "metadata": {
    "scrolled": true
   },
   "outputs": [
    {
     "data": {
      "text/html": [
       "<div>\n",
       "<style scoped>\n",
       "    .dataframe tbody tr th:only-of-type {\n",
       "        vertical-align: middle;\n",
       "    }\n",
       "\n",
       "    .dataframe tbody tr th {\n",
       "        vertical-align: top;\n",
       "    }\n",
       "\n",
       "    .dataframe thead th {\n",
       "        text-align: right;\n",
       "    }\n",
       "</style>\n",
       "<table border=\"1\" class=\"dataframe\">\n",
       "  <thead>\n",
       "    <tr style=\"text-align: right;\">\n",
       "      <th></th>\n",
       "      <th>detector</th>\n",
       "      <th>element</th>\n",
       "      <th>ROI_Start</th>\n",
       "      <th>ROI_End</th>\n",
       "      <th>Gross</th>\n",
       "      <th>Net</th>\n",
       "      <th>Centroid</th>\n",
       "      <th>FWHM</th>\n",
       "      <th>Known_keV</th>\n",
       "      <th>yerr</th>\n",
       "    </tr>\n",
       "  </thead>\n",
       "  <tbody>\n",
       "    <tr>\n",
       "      <th>39</th>\n",
       "      <td>na</td>\n",
       "      <td>cs137</td>\n",
       "      <td>18</td>\n",
       "      <td>30</td>\n",
       "      <td>10062</td>\n",
       "      <td>7447</td>\n",
       "      <td>22</td>\n",
       "      <td>4.0</td>\n",
       "      <td>32.0</td>\n",
       "      <td>3.0</td>\n",
       "    </tr>\n",
       "    <tr>\n",
       "      <th>41</th>\n",
       "      <td>na</td>\n",
       "      <td>cs137</td>\n",
       "      <td>375</td>\n",
       "      <td>454</td>\n",
       "      <td>34939</td>\n",
       "      <td>33578</td>\n",
       "      <td>410</td>\n",
       "      <td>30.0</td>\n",
       "      <td>661.7</td>\n",
       "      <td>25.0</td>\n",
       "    </tr>\n",
       "    <tr>\n",
       "      <th>37</th>\n",
       "      <td>na</td>\n",
       "      <td>co60</td>\n",
       "      <td>678</td>\n",
       "      <td>759</td>\n",
       "      <td>8574</td>\n",
       "      <td>6154</td>\n",
       "      <td>713</td>\n",
       "      <td>35.0</td>\n",
       "      <td>1173.2</td>\n",
       "      <td>30.0</td>\n",
       "    </tr>\n",
       "    <tr>\n",
       "      <th>38</th>\n",
       "      <td>na</td>\n",
       "      <td>co60</td>\n",
       "      <td>762</td>\n",
       "      <td>859</td>\n",
       "      <td>6822</td>\n",
       "      <td>6282</td>\n",
       "      <td>808</td>\n",
       "      <td>40.0</td>\n",
       "      <td>1332.5</td>\n",
       "      <td>34.0</td>\n",
       "    </tr>\n",
       "  </tbody>\n",
       "</table>\n",
       "</div>"
      ],
      "text/plain": [
       "   detector element  ROI_Start  ROI_End  Gross    Net  Centroid  FWHM  \\\n",
       "39       na   cs137         18       30  10062   7447        22   4.0   \n",
       "41       na   cs137        375      454  34939  33578       410  30.0   \n",
       "37       na    co60        678      759   8574   6154       713  35.0   \n",
       "38       na    co60        762      859   6822   6282       808  40.0   \n",
       "\n",
       "    Known_keV  yerr  \n",
       "39       32.0   3.0  \n",
       "41      661.7  25.0  \n",
       "37     1173.2  30.0  \n",
       "38     1332.5  34.0  "
      ]
     },
     "execution_count": 18,
     "metadata": {},
     "output_type": "execute_result"
    }
   ],
   "source": [
    "# Computing the y-errors, FWHM is 2.355 * sigma, so converting\n",
    "# it to sigma and then multiplying by two for my error.  So +/- 2 sigma\n",
    "# is a reasonable error.\n",
    "na_cal['yerr'] = round(na_cal['FWHM'] / 2.355 * 2, 0)\n",
    "na_cal"
   ]
  },
  {
   "cell_type": "code",
   "execution_count": 30,
   "metadata": {},
   "outputs": [
    {
     "data": {
      "text/plain": [
       "(4,)"
      ]
     },
     "execution_count": 30,
     "metadata": {},
     "output_type": "execute_result"
    }
   ],
   "source": [
    "na_cal['yerr'].shape\n"
   ]
  },
  {
   "cell_type": "code",
   "execution_count": 36,
   "metadata": {},
   "outputs": [
    {
     "data": {
      "image/png": "[encoded data removed]",
      "text/plain": [
       "<Figure size 720x576 with 1 Axes>"
      ]
     },
     "metadata": {
      "needs_background": "light"
     },
     "output_type": "display_data"
    }
   ],
   "source": [
    "plt.figure(figsize=(10,8))\n",
    "plt.scatter(x,y)\n",
    "#plt.plot(x, y_hat, linestyle='--', color='r', label='Linear Fit')\n",
    "plt.plot(x.to_numpy(), y_hat, linestyle='--', color='r', label='Linear Fit')\n",
    "#plt.errorbar(x.to_numpy(), y.to_numpy(), yerr=na_cal['yerr'].to_numpy(), fmt='none', capsize=10)\n",
    "#plt.errorbar(x, y, yerr=5, fmt='none', capsize=10)\n",
    "plt.legend()\n",
    "plt.title('Na Detector Calibration - Energy vs Channel')\n",
    "plt.xlabel('Channel')\n",
    "plt.ylabel('Energy (keV)')\n",
    "plt.show()"
   ]
  },
  {
   "cell_type": "markdown",
   "metadata": {},
   "source": [
    "**Note**: The errorbar function gave me problems re-running it this morning so I've commented it out until I can fix it.  That plot function more than any other is extremely sensitive to the dimensions of the values passed to it and can't seem to logically broadcast things like every other plotting function I've used."
   ]
  },
  {
   "cell_type": "markdown",
   "metadata": {},
   "source": [
    "## Computing $\\tilde{X}^2$\n",
    "The reduced $X^2$, which is just $\\tilde{X}^2 = \\frac{X^2}{N-c}$, where $c$ is the constraints, so $N-c$ is the degrees of freedom.\n",
    "\n",
    "For this we're doing a linear fit so we have two parameters, slope and intercept, and four points.  So the degrees of freedom is $2$, just $4-2$.\n",
    "\n",
    "$$\\tilde{X}^2 = \\frac{1}{N-c}\\sum^{N}_{k=1}\\left(\\frac{O_k - E_k}{\\sigma_k}\\right)^2$$\n",
    "\n",
    "Where $O_k$ is the observation, and $E_k$ is the expected value, and of course $\\sigma_k$ is the error in the expected value.  In this case $\\sigma_k$ is just the FWHM divided by 2.355 to get it as a standard deviation, and then multiplied by 2 so it should be within two standard deviations (95% chance).  The observation is what we measured for the energy, and the expected value is what our linear fit says it should actually be ($\\hat{y}$)"
   ]
  },
  {
   "cell_type": "code",
   "execution_count": 17,
   "metadata": {},
   "outputs": [
    {
     "data": {
      "text/plain": [
       "1.0437843913668485"
      ]
     },
     "execution_count": 17,
     "metadata": {},
     "output_type": "execute_result"
    }
   ],
   "source": [
    "# Compute & sum all of these terms\n",
    "1/2 * (((y.to_numpy() - y_hat)/na_cal[['yerr']].to_numpy())**2).sum()"
   ]
  },
  {
   "cell_type": "markdown",
   "metadata": {},
   "source": [
    "So I get a $\\tilde{X}^2$ of 1.04, basically 1.0 on the nose and this seems like a good fit."
   ]
  }
 ],
 "metadata": {
  "kernelspec": {
   "display_name": "Python 3 (ipykernel)",
   "language": "python",
   "name": "python3"
  },
  "language_info": {
   "codemirror_mode": {
    "name": "ipython",
    "version": 3
   },
   "file_extension": ".py",
   "mimetype": "text/x-python",
   "name": "python",
   "nbconvert_exporter": "python",
   "pygments_lexer": "ipython3",
   "version": "3.10.4"
  }
 },
 "nbformat": 4,
 "nbformat_minor": 4
}
