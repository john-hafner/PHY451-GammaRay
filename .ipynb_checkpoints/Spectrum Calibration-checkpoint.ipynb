{
 "cells": [
  {
   "cell_type": "code",
   "execution_count": 1,
   "metadata": {},
   "outputs": [],
   "source": [
    "import pandas as pd\n",
    "import numpy as np\n",
    "import matplotlib.pyplot as plt\n",
    "import seaborn as sns"
   ]
  },
  {
   "cell_type": "code",
   "execution_count": 3,
   "metadata": {},
   "outputs": [
    {
     "data": {
      "text/html": [
       "<div>\n",
       "<style scoped>\n",
       "    .dataframe tbody tr th:only-of-type {\n",
       "        vertical-align: middle;\n",
       "    }\n",
       "\n",
       "    .dataframe tbody tr th {\n",
       "        vertical-align: top;\n",
       "    }\n",
       "\n",
       "    .dataframe thead th {\n",
       "        text-align: right;\n",
       "    }\n",
       "</style>\n",
       "<table border=\"1\" class=\"dataframe\">\n",
       "  <thead>\n",
       "    <tr style=\"text-align: right;\">\n",
       "      <th></th>\n",
       "      <th>detector</th>\n",
       "      <th>element</th>\n",
       "      <th>ROI_Start</th>\n",
       "      <th>ROI_End</th>\n",
       "      <th>Gross</th>\n",
       "      <th>Net</th>\n",
       "      <th>Centroid</th>\n",
       "      <th>FWHM</th>\n",
       "    </tr>\n",
       "  </thead>\n",
       "  <tbody>\n",
       "    <tr>\n",
       "      <th>0</th>\n",
       "      <td>ge</td>\n",
       "      <td>bg</td>\n",
       "      <td>32</td>\n",
       "      <td>35</td>\n",
       "      <td>4093</td>\n",
       "      <td>104</td>\n",
       "      <td>33</td>\n",
       "      <td>--</td>\n",
       "    </tr>\n",
       "    <tr>\n",
       "      <th>1</th>\n",
       "      <td>ge</td>\n",
       "      <td>bg</td>\n",
       "      <td>39</td>\n",
       "      <td>43</td>\n",
       "      <td>21079</td>\n",
       "      <td>12163</td>\n",
       "      <td>40</td>\n",
       "      <td>--</td>\n",
       "    </tr>\n",
       "    <tr>\n",
       "      <th>2</th>\n",
       "      <td>ge</td>\n",
       "      <td>bg</td>\n",
       "      <td>151</td>\n",
       "      <td>154</td>\n",
       "      <td>4259</td>\n",
       "      <td>1189</td>\n",
       "      <td>152</td>\n",
       "      <td>--</td>\n",
       "    </tr>\n",
       "    <tr>\n",
       "      <th>3</th>\n",
       "      <td>ge</td>\n",
       "      <td>bg</td>\n",
       "      <td>165</td>\n",
       "      <td>170</td>\n",
       "      <td>9392</td>\n",
       "      <td>6865</td>\n",
       "      <td>167</td>\n",
       "      <td>2</td>\n",
       "    </tr>\n",
       "    <tr>\n",
       "      <th>4</th>\n",
       "      <td>ge</td>\n",
       "      <td>bg</td>\n",
       "      <td>193</td>\n",
       "      <td>199</td>\n",
       "      <td>23971</td>\n",
       "      <td>-3679</td>\n",
       "      <td>198</td>\n",
       "      <td>--</td>\n",
       "    </tr>\n",
       "  </tbody>\n",
       "</table>\n",
       "</div>"
      ],
      "text/plain": [
       "  detector element  ROI_Start  ROI_End  Gross    Net  Centroid FWHM\n",
       "0       ge      bg         32       35   4093    104        33   --\n",
       "1       ge      bg         39       43  21079  12163        40   --\n",
       "2       ge      bg        151      154   4259   1189       152   --\n",
       "3       ge      bg        165      170   9392   6865       167    2\n",
       "4       ge      bg        193      199  23971  -3679       198   --"
      ]
     },
     "execution_count": 3,
     "metadata": {},
     "output_type": "execute_result"
    }
   ],
   "source": [
    "df = pd.read_csv('data/peaks/uncalibrated_peaks.csv')\n",
    "df.head()"
   ]
  },
  {
   "cell_type": "markdown",
   "metadata": {},
   "source": [
    "# Spectrum Calibration\n",
    "We've taken readings from both the Ge and Na spectrometers but they come in \"channels\" that show relative energy levels.  It takes some tweaking of the settings to get the peaks we want to see in the window of the 1024 channels on the MCA software.  We'll then use known energy values for some peaks to try to map these channel values to energy.  Then we can measure the energy levels on other radioactive sources."
   ]
  },
  {
   "cell_type": "markdown",
   "metadata": {},
   "source": [
    "## Peak Data for Cs-137\n",
    "The germanium detector (ge) picked up far more peaks due to its better sensitivity.\n",
    "\n",
    "For the Na detector the first and last peak represent 32 KeV and 661.6 KeV respectively for a baryon x-ray source and the photopeak of Cs-137."
   ]
  },
  {
   "cell_type": "code",
   "execution_count": null,
   "metadata": {},
   "outputs": [],
   "source": [
    "df[df['element']=='cs137'].sort_values(['detector', 'ROI_Start'])"
   ]
  },
  {
   "cell_type": "code",
   "execution_count": null,
   "metadata": {},
   "outputs": [],
   "source": [
    "df[(df['element']=='cs137') & (df['detector']=='na')].sort_values(['detector', 'ROI_Start'])"
   ]
  },
  {
   "cell_type": "code",
   "execution_count": null,
   "metadata": {},
   "outputs": [],
   "source": [
    "# Na detector data\n",
    "\n",
    "# channels\n",
    "c1 = 22\n",
    "c2 = 410\n",
    "\n",
    "# Energy KeV\n",
    "p1 = 32.0\n",
    "p2 = 661.6\n",
    "\n",
    "# Slope\n",
    "m = (p2 - p1) / (c2 - c1)\n",
    "print(f'slope m: {m:.3f}')\n",
    "\n",
    "# Intercept\n",
    "b = p2 - c2*m\n",
    "print(f'intercept b: {b:.3f}')\n",
    "\n",
    "def calc_energy(channel):\n",
    "    return m * channel + b"
   ]
  },
  {
   "cell_type": "code",
   "execution_count": null,
   "metadata": {},
   "outputs": [],
   "source": [
    "df[(df['element']=='co60') & (df['detector']=='na')].sort_values(['detector', 'ROI_Start'])"
   ]
  },
  {
   "cell_type": "markdown",
   "metadata": {},
   "source": [
    "## Co-60 Verification\n",
    "The last two peaks here should be around 1173.2 KeV and 1332.5 KeV for Co-60.  We can see how well a pair of the Cs-137 points does at setting the spectrum, but maybe fitting to four points will do better."
   ]
  },
  {
   "cell_type": "code",
   "execution_count": null,
   "metadata": {},
   "outputs": [],
   "source": [
    "print(f'peak 1: {calc_energy(713):.2f}')\n",
    "print(f'peak 2: {calc_energy(808):.2f}')"
   ]
  },
  {
   "cell_type": "markdown",
   "metadata": {},
   "source": [
    "Very close!  Within 20 KeV for the first, and 25 KeV for the second peak.  At these energies that's just $\\approx$2% off the known values."
   ]
  },
  {
   "cell_type": "code",
   "execution_count": null,
   "metadata": {},
   "outputs": [],
   "source": [
    "df[(df['detector']=='na')].sort_values(['detector', 'element', 'ROI_Start'])"
   ]
  },
  {
   "cell_type": "markdown",
   "metadata": {},
   "source": [
    "Other targets would be Na-22, Ba-133, and the unknown though that's obviously Cs-137 as it has the exact same channel numbers for the centroids."
   ]
  },
  {
   "cell_type": "code",
   "execution_count": null,
   "metadata": {},
   "outputs": [],
   "source": [
    "df.loc[df['detector']=='na', 'energy (KeV)'] = calc_energy(df.loc[(df['detector']=='na'), 'Centroid'])\n",
    "df[(df['detector']=='na')]"
   ]
  },
  {
   "cell_type": "markdown",
   "metadata": {},
   "source": [
    "## Energy Levels\n",
    "For these we can compare them against the known values.\n",
    "\n",
    "### Na-22\n",
    "- Readings of the peaks of Na-22 come out very well.  The peak at 510.7 KeV is for electron-positron annihilation, so almost on the nose for 511 KeV of those particles.  And the 2nd peak at 1250.6 KeV is very close to the nuclear energy transition at 1270 KeV.\n",
    "\n",
    "### Cd-109\n",
    "- There's supposed to be a peak at 88 keV, and we get 83.9, reasonably close.  There's a number of other peaks here but the references I find but they didn't show up clearly in our data from the Na detector.\n",
    "\n",
    "### Ba-133\n",
    "- This is one with many peaks, so the Na detector was probably always going to have a tough time at these lower energies.  Some of the peaks line up nicely with the actual data.  30.4 keV vs 30.85 keV, 80.7 keV vs 81 keV.  There's four peaks in the 275-384 keV range and we get 294.9 (vs 276.4), 364.6 (vs 356.02).\n",
    "\n",
    "### Unknown\n",
    "- Obviously Cs-137, same exact peaks found as the Cs-137 data that was used to configure it."
   ]
  },
  {
   "cell_type": "code",
   "execution_count": null,
   "metadata": {
    "scrolled": false
   },
   "outputs": [],
   "source": [
    "df[(df['detector']=='ge')]"
   ]
  },
  {
   "cell_type": "code",
   "execution_count": null,
   "metadata": {},
   "outputs": [],
   "source": [
    "c2 = 398\n",
    "c1 = 26\n",
    "\n",
    "m = (p2 - p1) / (c2 - c1)\n",
    "b = p2 - c2*m"
   ]
  },
  {
   "cell_type": "code",
   "execution_count": null,
   "metadata": {},
   "outputs": [],
   "source": [
    "df.loc[df['detector']=='ge', 'energy (KeV)'] = calc_energy(df.loc[(df['detector']=='ge'), 'Centroid'])\n",
    "df[(df['detector']=='ge')]"
   ]
  },
  {
   "cell_type": "code",
   "execution_count": null,
   "metadata": {},
   "outputs": [],
   "source": [
    "calc_energy(801)\n",
    "calc_energy(704)"
   ]
  },
  {
   "cell_type": "code",
   "execution_count": null,
   "metadata": {
    "scrolled": false
   },
   "outputs": [],
   "source": [
    "from sklearn.linear_model import LinearRegression\n",
    "\n",
    "plt.figure(figsize=(10,8))\n",
    "\n",
    "fwhm_df =df.loc[(df['detector']=='na') & (df['FWHM'] != '--'), ['Centroid', 'FWHM']].astype(np.int64).sort_values('Centroid')\n",
    "x = fwhm_df['Centroid'].to_numpy().reshape(-1,1)\n",
    "y = fwhm_df['FWHM'].to_numpy().reshape(-1,1)\n",
    "\n",
    "model = LinearRegression().fit(x, y)\n",
    "\n",
    "y_hat = model.predict(x)\n",
    "\n",
    "plt.scatter(fwhm_df['Centroid'], fwhm_df['FWHM'])\n",
    "plt.plot(x, y_hat, linestyle='--', color='r')\n",
    "\n",
    "\n",
    "plt.title('Na Detector Resolution: FWHM vs Centroid Channel')\n",
    "plt.xlabel('Channel')\n",
    "plt.ylabel('FWHM')\n",
    "plt.show()"
   ]
  },
  {
   "cell_type": "code",
   "execution_count": null,
   "metadata": {},
   "outputs": [],
   "source": [
    "print(f'R2 Score: {model.score(x, y):.2f}')"
   ]
  },
  {
   "cell_type": "code",
   "execution_count": null,
   "metadata": {},
   "outputs": [],
   "source": [
    "fwhm_df.sort_values('Centroid')"
   ]
  },
  {
   "cell_type": "markdown",
   "metadata": {},
   "source": [
    "# Quadratic Fit\n",
    "We can use three points to fit the data quadratically."
   ]
  }
 ],
 "metadata": {
  "kernelspec": {
   "display_name": "Python 3",
   "language": "python",
   "name": "python3"
  },
  "language_info": {
   "codemirror_mode": {
    "name": "ipython",
    "version": 3
   },
   "file_extension": ".py",
   "mimetype": "text/x-python",
   "name": "python",
   "nbconvert_exporter": "python",
   "pygments_lexer": "ipython3",
   "version": "3.8.5"
  }
 },
 "nbformat": 4,
 "nbformat_minor": 5
}
